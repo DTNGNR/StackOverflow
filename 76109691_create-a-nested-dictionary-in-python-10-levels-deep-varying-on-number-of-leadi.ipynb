{
 "cells": [
  {
   "attachments": {},
   "cell_type": "markdown",
   "metadata": {},
   "source": [
    "# Create a nested dictionary in Python, 10 levels deep, varying on number of leading spaces\n",
    "\n",
    "I have a file that looks like this:\n",
    "\n",
    "```\n",
    "Object=Project\n",
    "  Comment=TestComment\n",
    "  Version=1.0.0\n",
    "  Flags=$01\n",
    "PrintSettings=Settings\n",
    "  Lang=English\n",
    "  PrintFirstPage=True\n",
    "  Admin=True\n",
    "    User=Author\n",
    "EndTags\n",
    "```\n",
    "\n",
    "And I want a nested dictionary that encapsulates the data varying on the number of leading spaces in each line (0, level 0; 2, level 1; 4, level 2; ... ; 20 level 10), so the result is:\n",
    "```\n",
    "defaultdict(<class 'dict'>, {'Object': 'Project', 'Project': {'Comment': 'TestComment', 'Version': '1.0.0', 'Flags': '$01'}, 'PrintSettings': 'Settings', 'Settings': {'Lang': 'English', 'PrintFirstPage': 'True', 'Admin': 'True', 'True': {'User': 'Author'}}})\n",
    "```\n",
    "I have this piece of code that reproduces the result given, but only functions properly with 2 levels of depth:\n"
   ]
  },
  {
   "cell_type": "code",
   "execution_count": 1,
   "metadata": {},
   "outputs": [],
   "source": [
    "string = \"\"\"Object=Project\n",
    "  Comment=TestComment\n",
    "  Version=1.0.0\n",
    "  Flags=$01\n",
    "PrintSettings=Settings\n",
    "  Lang=English\n",
    "  PrintFirstPage=True\n",
    "  Admin=True\n",
    "    User=Author\n",
    "EndTags\"\"\""
   ]
  },
  {
   "cell_type": "code",
   "execution_count": 1,
   "metadata": {},
   "outputs": [
    {
     "ename": "NameError",
     "evalue": "name 'string' is not defined",
     "output_type": "error",
     "traceback": [
      "\u001b[1;31m---------------------------------------------------------------------------\u001b[0m",
      "\u001b[1;31mNameError\u001b[0m                                 Traceback (most recent call last)",
      "\u001b[1;32m~\\AppData\\Local\\Temp\\ipykernel_7596\\2270855858.py\u001b[0m in \u001b[0;36m<module>\u001b[1;34m\u001b[0m\n\u001b[0;32m      5\u001b[0m \u001b[0mdictionary_fromfile\u001b[0m \u001b[1;33m=\u001b[0m \u001b[0mdefaultdict\u001b[0m\u001b[1;33m(\u001b[0m\u001b[0mdict\u001b[0m\u001b[1;33m)\u001b[0m\u001b[1;33m\u001b[0m\u001b[1;33m\u001b[0m\u001b[0m\n\u001b[0;32m      6\u001b[0m \u001b[1;33m\u001b[0m\u001b[0m\n\u001b[1;32m----> 7\u001b[1;33m \u001b[1;32mfor\u001b[0m \u001b[0mline\u001b[0m \u001b[1;32min\u001b[0m \u001b[0mstr\u001b[0m\u001b[1;33m.\u001b[0m\u001b[0msplitlines\u001b[0m\u001b[1;33m(\u001b[0m\u001b[0mstring\u001b[0m\u001b[1;33m)\u001b[0m\u001b[1;33m:\u001b[0m\u001b[1;33m\u001b[0m\u001b[1;33m\u001b[0m\u001b[0m\n\u001b[0m\u001b[0;32m      8\u001b[0m     \u001b[0mline\u001b[0m \u001b[1;33m=\u001b[0m \u001b[0mline\u001b[0m\u001b[1;33m.\u001b[0m\u001b[0mrstrip\u001b[0m\u001b[1;33m(\u001b[0m\u001b[1;33m)\u001b[0m\u001b[1;33m\u001b[0m\u001b[1;33m\u001b[0m\u001b[0m\n\u001b[0;32m      9\u001b[0m     \u001b[0mlines_infile\u001b[0m\u001b[1;33m.\u001b[0m\u001b[0mappend\u001b[0m\u001b[1;33m(\u001b[0m\u001b[0mline\u001b[0m\u001b[1;33m)\u001b[0m\u001b[1;33m\u001b[0m\u001b[1;33m\u001b[0m\u001b[0m\n",
      "\u001b[1;31mNameError\u001b[0m: name 'string' is not defined"
     ]
    }
   ],
   "source": [
    "from collections import defaultdict\n",
    "\n",
    "lines_infile = []\n",
    "numleadingspaces = []\n",
    "dictionary_fromfile = defaultdict(dict)\n",
    "\n",
    "for line in str.splitlines(string):\n",
    "    line = line.rstrip()\n",
    "    lines_infile.append(line)\n",
    "    numleadingspaces.append(len(line)-len(line.lstrip()))\n",
    "\n",
    "for i in range(len(lines_infile)):\n",
    "\n",
    "    if '=' in lines_infile[i]:\n",
    "        if numleadingspaces[i] == 0:\n",
    "            level0_key, level0_value = lines_infile[i].split('=')\n",
    "            level0_key = level0_key.lstrip()\n",
    "            dictionary_fromfile[level0_key] = level0_value\n",
    "            last_level0_key, last_level0_value = level0_key, level0_value\n",
    "        \n",
    "        elif numleadingspaces[i] == 2:\n",
    "            level0key_forlevel2 = last_level0_value\n",
    "            level2_key, level2_value = lines_infile[i].split('=')\n",
    "            level2_key = level2_key.lstrip()\n",
    "            dictionary_fromfile[level0key_forlevel2][level2_key] = level2_value\n",
    "            last_level2_key, last_level2_value = level2_key, level2_value\n",
    "        \n",
    "        elif numleadingspaces[i] == 4:\n",
    "            level2key_forlevel4 = last_level2_value\n",
    "            level4_key, level4_value = lines_infile[i].split('=')\n",
    "            level4_key = level4_key.lstrip()\n",
    "            dictionary_fromfile[level0key_forlevel2][level2key_forlevel4] = {}\n",
    "            dictionary_fromfile[level0key_forlevel2][level2key_forlevel4][level4_key] = level4_value\n",
    "            \n",
    "display(dictionary_fromfile)"
   ]
  },
  {
   "attachments": {},
   "cell_type": "markdown",
   "metadata": {},
   "source": [
    "# My version"
   ]
  },
  {
   "cell_type": "code",
   "execution_count": 4,
   "metadata": {},
   "outputs": [
    {
     "data": {
      "text/plain": [
       "defaultdict(dict,\n",
       "            {'Object': 'Project',\n",
       "             'Project': {'Comment': 'TestComment',\n",
       "              'Version': '1.0.0',\n",
       "              'Flags': '$01'},\n",
       "             'PrintSettings': 'Settings',\n",
       "             'Settings': {'Lang': 'English',\n",
       "              'PrintFirstPage': 'True',\n",
       "              'Admin': 'True',\n",
       "              'True': {'User': 'Author'}}})"
      ]
     },
     "metadata": {},
     "output_type": "display_data"
    }
   ],
   "source": [
    "result = defaultdict(dict)\n",
    "temp = result # Create a view of the dictionary\n",
    "level = []\n",
    "prev_indent = 0\n",
    "prev_value = \"\"\n",
    "\n",
    "for line in str.splitlines(string):\n",
    "    if \"=\" in line:\n",
    "        \n",
    "        indent = round(int(len(line)-len(line.lstrip()))/2)\n",
    "        line = line.strip()\n",
    "\n",
    "        key, value = str.split(line, \"=\")\n",
    "\n",
    "        if indent > prev_indent:\n",
    "            prev_indent = indent\n",
    "            temp[prev_value] = {} # Create nested dict\n",
    "            temp = temp[prev_value] # Change the view of the dict\n",
    "            \n",
    "        elif indent < prev_indent:\n",
    "            prev_indent = indent\n",
    "            level = level[0:indent]\n",
    "            temp = result # Change the view of the dict\n",
    "            for l in level:\n",
    "                temp = temp[l]\n",
    "\n",
    "        prev_value = value\n",
    "            \n",
    "        temp[key] = value\n",
    "\n",
    "display(result)"
   ]
  }
 ],
 "metadata": {
  "kernelspec": {
   "display_name": "base",
   "language": "python",
   "name": "python3"
  },
  "language_info": {
   "codemirror_mode": {
    "name": "ipython",
    "version": 3
   },
   "file_extension": ".py",
   "mimetype": "text/x-python",
   "name": "python",
   "nbconvert_exporter": "python",
   "pygments_lexer": "ipython3",
   "version": "3.9.13"
  },
  "orig_nbformat": 4
 },
 "nbformat": 4,
 "nbformat_minor": 2
}
