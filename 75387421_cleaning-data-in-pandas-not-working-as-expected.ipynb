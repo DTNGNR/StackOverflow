{
 "cells": [
  {
   "attachments": {},
   "cell_type": "markdown",
   "metadata": {},
   "source": [
    "# Cleaning data in pandas not working as expected\n",
    "\n",
    "https://stackoverflow.com/questions/75387421/cleaning-data-in-pandas-not-working-as-expected/76109910#76109910\n",
    "\n",
    "I have a Google Spreadsheet with info I've been gathering for a month.\n",
    "\n",
    "https://docs.google.com/spreadsheets/d/e/2PACX-1vSeua1He863Vya90JBlnkRvpyErGT6vQJKGmJAGE4F8wibw1LdiR9UKA_TTrVeAeaPzm86V4cE8cq6f/pubhtml\n",
    "\n",
    "I'm trying to do some Data Analysis to find if there's a relationship between some factors (irrelevant to this question).\n",
    "\n",
    "The problem is that when I'm cleaning the data, somethings don't go as I expected. Here's my code:"
   ]
  },
  {
   "cell_type": "code",
   "execution_count": 2,
   "metadata": {},
   "outputs": [
    {
     "name": "stdout",
     "output_type": "stream",
     "text": [
      "['aceituna', 'acelga', 'anana', 'arandano', 'azucar', 'banana', 'berenjena', 'cacao', 'cafe', 'calabaza', 'carne', 'cerdo', 'choclo', 'crepe', 'fideo', 'frutillas', 'galleta', 'galletita banana-arandano', 'huevo', 'jengibre', 'leche', 'lemonie', 'limonada', 'mani', 'manteca', 'mate', 'melon', 'merluza', 'omelette', 'pan', 'pasta mani', 'patata', 'queso', 'quinoa pop', 'rucula', 'salsa tomate', 'tira de asado', 'tomate', 'tortilla patata', 'uva', 'zanahoria', 'zapallo']\n"
     ]
    }
   ],
   "source": [
    "import pandas as pd\n",
    "\n",
    "\n",
    "my_data = pd.read_csv('https://docs.google.com/spreadsheets/d/e/2PACX-1vSeua1He863Vya90JBlnkRvpyErGT6vQJKGmJAGE4F8wibw1LdiR9UKA_TTrVeAeaPzm86V4cE8cq6f/pub?output=csv', index_col=0)\n",
    "\n",
    "# Check for impossible values\n",
    "my_data = my_data[my_data['Agua'] < 5.0]\n",
    "my_data = my_data[(my_data['Actividad física'] == 0) | (my_data['Actividad física'] == 1)]\n",
    "my_data = my_data[(my_data['Baño'] >= 0) | (my_data['Baño'] <= 2)]\n",
    "\n",
    "# Extract a list of meals taken (unique) to process them as proteins, carbs and fat.\n",
    "meals = (my_data['Cena']+','+my_data['Almuerzo']+','+my_data['Merienda']+','+\n",
    "my_data['Desayuno']).str.normalize('NFKD').str.encode('utf-8').str.decode('ascii', 'ignore').str.split(',').\\\n",
    "explode().str.strip().dropna().unique().tolist()\n",
    "\n",
    "# Clean the resulting list up\n",
    "for i in range(len(meals)):\n",
    "    meals[i] = meals[i].replace('pasta ', '')\n",
    "    if meals[i] == 'ananá':\n",
    "        meals[i] = 'piña'\n",
    "    elif 'papa' in meals[i]:\n",
    "        meals[i] = meals[i].replace('papa', 'patata')\n",
    "    elif meals[i][-1] == 's':\n",
    "        meals[i] = meals[i][0:-1]\n",
    "    elif 'pasta ' in meals[i]:\n",
    "        print(meals[i])\n",
    "        meals[i] = meals[i].replace('pasta ', '')\n",
    "    elif 'gallet' in meals[i] or 'barrita' in meals[i]:\n",
    "        meal = meals[i]\n",
    "        meals.remove(meals[i])\n",
    "        ingredients = meal.split('-')\n",
    "        for j in range(len(ingredients)):\n",
    "            if ingredients[j] == 'nueces':\n",
    "                ingredients[j] = 'nuez'\n",
    "        base, ingredient = ingredients[0].split(' ')\n",
    "        meals.append(ingredient)\n",
    "    elif 'choco' in meals[i]:\n",
    "        meals[i] = 'cacao'\n",
    "    \n",
    "meals.append('galleta')\n",
    "meals = sorted(list(set(meals)))\n",
    "print(meals)"
   ]
  },
  {
   "attachments": {},
   "cell_type": "markdown",
   "metadata": {},
   "source": [
    "This code results in this list:\n",
    "\n",
    "['aceituna', 'acelga', 'anana', 'arandano', 'asado', 'azucar', 'banana', 'berenjena', 'cacao', 'cafe', 'calabaza', 'carne', 'cerdo', 'choclo', 'crepe', 'fideo', 'frutillas', 'galleta', 'galletita banana-arandano', 'huevo', 'jengibre', 'leche', 'lemonie', 'limonada', 'mani', 'manteca', 'mate', 'melon', 'omelette', 'pan', 'pasta mani', 'patata', 'pescado', 'queso', 'quinoa pop', 'rucula', 'salsa tomate', 'tomate', 'tortilla patata', 'uva', 'zanahoria', 'zapallo']\n",
    "\n",
    "I've highlighted the 2 problems I've encountered so far. This code should eliminate both 'pasta mani' and 'galletita banana-arandano' from the list (converting them into something else).\n",
    "\n",
    "For 'pasta mani' I've noticed that if in meals[i] = meals[i].replace('pasta ', '') I type 'ta' instead of pasta, it works. I don't understand what's the problem with the 'pas' part of the string.\n",
    "\n",
    "Thank you all for your help!\n",
    "\n"
   ]
  },
  {
   "attachments": {},
   "cell_type": "markdown",
   "metadata": {},
   "source": [
    "# My version"
   ]
  },
  {
   "cell_type": "code",
   "execution_count": 2,
   "metadata": {},
   "outputs": [
    {
     "name": "stdout",
     "output_type": "stream",
     "text": [
      "['aceituna', 'acelga', 'anana', 'arandano', 'azucar', 'banana', 'berenjena', 'cafe', 'calabaza', 'carne', 'cerdo', 'choclo', 'choco', 'crepe', 'fideo', 'frutilla', 'galleta', 'huevo', 'jengibre', 'leche', 'lemonie', 'limonada', 'mani', 'manteca', 'mate', 'melon', 'merluza', 'omelette', 'pan', 'patata', 'queso', 'quinoa pop', 'rucula', 'salsa tomate', 'tira de asado', 'tomate', 'tortilla patata', 'uva', 'zanahoria', 'zapallo']\n"
     ]
    }
   ],
   "source": [
    "meals = ['tira de asado', 'papa', 'tomate', 'rucula', 'limonada', 'melon', 'queso', 'pan', 'pasta aceituna', 'mate', 'azucar', 'quinoa pop', 'banana', 'leche', 'cafe', 'huevos', 'arandanos', 'crepe', 'acelga', 'choclo', 'zanahoria', 'zapallo', 'galletita mani-nueces-cacao', 'pasta mani', 'uvas', 'huevo', 'omelette', 'anana', 'merluza', 'tortilla papa', 'berenjena', 'salsa tomate', 'barrita choco-mani-avena', 'frutillas', 'calabaza', 'mani', 'carne', 'cerdo', 'fideos', 'lemonies', 'galletita banana-arandanos', 'jengibre', 'manteca']\n",
    "out = []\n",
    "\n",
    "# Clean the resulting list up\n",
    "for word in meals:\n",
    "    if word[-1] == 's':\n",
    "        word = word[0:-1]\n",
    "\n",
    "    if word == 'ananá':\n",
    "        word = 'piña'\n",
    "    elif 'papa' in word:\n",
    "        word = word.replace('papa', 'patata')\n",
    "    elif 'pasta ' in word:\n",
    "        word = word.replace('pasta ', '')\n",
    "    elif 'gallet' in word or 'barrita' in word:\n",
    "        ingredients = word.split('-')\n",
    "        word = \"galleta\"        \n",
    "        for j in range(len(ingredients)):\n",
    "            if ingredients[j] == 'nueces':\n",
    "                ingredients[j] = 'nuez'\n",
    "        base, ingredient = ingredients[0].split(' ')\n",
    "        out.append(ingredient)\n",
    "\n",
    "        \n",
    "    elif 'choco' in word:\n",
    "        word = 'cacao'\n",
    "    out.append(word)\n",
    "\n",
    "out = sorted(list(set(out)))\n",
    "print(out)"
   ]
  }
 ],
 "metadata": {
  "kernelspec": {
   "display_name": "base",
   "language": "python",
   "name": "python3"
  },
  "language_info": {
   "codemirror_mode": {
    "name": "ipython",
    "version": 3
   },
   "file_extension": ".py",
   "mimetype": "text/x-python",
   "name": "python",
   "nbconvert_exporter": "python",
   "pygments_lexer": "ipython3",
   "version": "3.9.13"
  },
  "orig_nbformat": 4
 },
 "nbformat": 4,
 "nbformat_minor": 2
}
